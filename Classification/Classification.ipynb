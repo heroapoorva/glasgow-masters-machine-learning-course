{
 "cells": [
  {
   "cell_type": "code",
   "execution_count": 1,
   "metadata": {
    "collapsed": true
   },
   "outputs": [],
   "source": [
    "from IPython.display import IFrame\n",
    "import pylab as plt\n",
    "%matplotlib inline\n",
    "import urllib\n",
    "# You only need this line if you haven't cloned the repo...if you have cloned, you'll already have the data\n",
    "urllib.urlretrieve('https://raw.githubusercontent.com/sdrogers/fcmlcode/master/notebooks/data/olympic100m.txt', 'olympic100m.txt')\n",
    "import numpy as np\n",
    "# If you have cloned, make sure this is pointing to the correct file, maybe ../data/olympic100m.txt ?\n",
    "data = np.loadtxt('olympic100m.txt',delimiter=',')\n",
    "x = data[:,0][:,None]\n",
    "t = data[:,1][:,None]\n"
   ]
  },
  {
   "cell_type": "markdown",
   "metadata": {},
   "source": [
    "## Linear regression in vector and matrix format\n",
    "\n",
    "In the previous notebook we derived the values of $w_0$ and $w_1$ that minimised the loss. If we modified our model to have a quadratic term:\n",
    "\n",
    "$$ t_n = w_0 + w_1x_n + w_2x_n $$\n",
    "\n",
    "resulting in more exciting bendy lines, we could do the same process:\n",
    "\n",
    " - Multiply out the squared loss\n",
    " - Differentiate with respect to $w_0$, $w_1$ and $w_2$\n",
    " - Set to zero\n",
    " - Solve the resulting 3 simultaneous equations\n",
    " \n",
    "Life is too short for this. So, we re-pose the problem using *vectors* and *matrices*"
   ]
  },
  {
   "cell_type": "markdown",
   "metadata": {},
   "source": [
    "## Definitions\n",
    "\n",
    "We'll start with the linear model again, and define the following:\n",
    "\n",
    "We first define $\\mathbf{w},\\mathbf{x}_n$ as:\n",
    "\n",
    "$$ \\mathbf{w} = \\left[\\begin{array}{c} w_0\\\\w_1\\end{array}\\right],~~\\mathbf{x}_n = \\left[\\begin{array}{c} 1 \\\\ x_n \\end{array}\\right] $$\n",
    "\n",
    "and:\n",
    "\n",
    "$$ \\mathbf{t} = \\left[\\begin{array}{c} t_1\\\\ t_2\\\\ \\vdots\\\\ t_N \\end{array}\\right] $$\n",
    "\n",
    "and:\n",
    "\n",
    "$$ \\mathbf{X} = \\left[\\begin{array}{c} \\mathbf{x}_1^T \\\\ \\mathbf{x}_2^T \\\\ \\vdots \\\\ \\mathbf{x}_N^T \\end{array}\\right] = \\left[ \\begin{array}{cc} 1 & x_1 \\\\ 1 & x_2 \\\\ \\vdots \\\\ 1 & x_N \\end{array}\\right] $$\n",
    "\n",
    "This might all seem a bit odd (particularly the $\\mathbf{X}$), but as you see in the lecture, it means we can write:\n",
    "\n",
    "$$ \\mathbf{t} = \\mathbf{X}\\mathbf{w} $$\n",
    "\n",
    "and \n",
    "\n",
    "$$ L = \\frac{1}{N}(\\mathbf{t} - \\mathbf{X}\\mathbf{w})^T (\\mathbf{t} - \\mathbf{X}\\mathbf{w}) $$\n",
    "\n",
    "which can be differentiated with respect to $\\mathbf{w}$ (as shown in lectures and sketched below) to give the following optimal value of $\\mathbf{w}$:\n",
    "\n",
    "$$ \\mathbf{w} = \\left(\\mathbf{X}^T\\mathbf{X}\\right)^{-1}\\mathbf{X}^T\\mathbf{t} $$"
   ]
  },
  {
   "cell_type": "markdown",
   "metadata": {},
   "source": [
    "We can now construct the various objects we need..."
   ]
  },
  {
   "cell_type": "code",
   "execution_count": 2,
   "metadata": {
    "collapsed": true
   },
   "outputs": [],
   "source": [
    "X = np.hstack((np.ones_like(x),x))\n",
    "t = t # This is already a vector!"
   ]
  },
  {
   "cell_type": "markdown",
   "metadata": {},
   "source": [
    "And compute $\\mathbf{w}$:"
   ]
  },
  {
   "cell_type": "code",
   "execution_count": 3,
   "metadata": {},
   "outputs": [
    {
     "name": "stdout",
     "output_type": "stream",
     "text": [
      "[[  3.64164559e+01]\n",
      " [ -1.33308857e-02]]\n"
     ]
    }
   ],
   "source": [
    "XX = np.dot(X.T,X)\n",
    "invXX = np.linalg.inv(XX)\n",
    "Xt = np.dot(X.T,t)\n",
    "w = np.dot(invXX,Xt)\n",
    "print w"
   ]
  },
  {
   "cell_type": "markdown",
   "metadata": {},
   "source": [
    "Now we can print the results. To do so, we need to create a matrix of test points in the same format as $\\mathbf{X}$ above (people often get stuck here!)"
   ]
  },
  {
   "cell_type": "code",
   "execution_count": 4,
   "metadata": {
    "collapsed": true
   },
   "outputs": [],
   "source": [
    "testx = np.linspace(1896,2012,100)[:,None]\n",
    "testX = np.hstack((np.ones_like(testx),testx))\n",
    "testt = np.dot(testX,w)"
   ]
  },
  {
   "cell_type": "code",
   "execution_count": 5,
   "metadata": {},
   "outputs": [
    {
     "data": {
      "text/plain": [
       "[<matplotlib.lines.Line2D at 0x7f760e7f7cd0>]"
      ]
     },
     "execution_count": 5,
     "metadata": {},
     "output_type": "execute_result"
    },
    {
     "data": {
      "image/png": "[encoded data removed]",
      "text/plain": [
       "<matplotlib.figure.Figure at 0x7f76281aa590>"
      ]
     },
     "metadata": {},
     "output_type": "display_data"
    }
   ],
   "source": [
    "plt.figure()\n",
    "plt.plot(x,t,'ro')\n",
    "plt.plot(testx,testt,'b')"
   ]
  },
  {
   "cell_type": "markdown",
   "metadata": {},
   "source": [
    "Phew again -- it looks just like the old version. So, what's the point?\n",
    "\n",
    "Well, to add, say, an $x^2$ term we just need to add a column to $\\mathbf{X}$ (and the test version):\n",
    "\n",
    "$$ \\mathbf{x}_n = \\left[\\begin{array}{c} 1 \\\\ x_n \\\\ x_n^2 \\end{array}\\right] $$\n",
    "\n",
    "$$ \\mathbf{X} = \\left[ \\begin{array}{c} \\mathbf{x}_1 \\\\ \\mathbf{x}_2 \\\\ \\vdots \\\\ \\mathbf{x}_N\\end{array}\\right] = \\left[ \\begin{array}{ccc} 1 & x_1 & x_1^2 \\\\ 1 & x_2 & x_2^2 \\\\ \\vdots & \\vdots & \\vdots \\\\ 1 & x_N & x_N^2 \\end{array}\\right] $$\n",
    "\n",
    "The equation for $\\mathbf{w}$ doesn't change **at all**:"
   ]
  },
  {
   "cell_type": "code",
   "execution_count": 6,
   "metadata": {},
   "outputs": [
    {
     "name": "stdout",
     "output_type": "stream",
     "text": [
      "[[  4.55597855e+02]\n",
      " [ -4.43160485e-01]\n",
      " [  1.10151552e-04]]\n"
     ]
    }
   ],
   "source": [
    "X = np.hstack((np.ones_like(x),x,x**2))\n",
    "XX = np.dot(X.T,X)\n",
    "invXX = np.linalg.inv(XX)\n",
    "Xt = np.dot(X.T,t)\n",
    "w = np.dot(invXX,Xt)\n",
    "print w"
   ]
  },
  {
   "cell_type": "code",
   "execution_count": 7,
   "metadata": {
    "collapsed": true
   },
   "outputs": [],
   "source": [
    "testx = np.linspace(1896,2012,100)[:,None]\n",
    "testX = np.hstack((np.ones_like(testx),testx,testx**2))\n",
    "testt = np.dot(testX,w)"
   ]
  },
  {
   "cell_type": "code",
   "execution_count": 8,
   "metadata": {},
   "outputs": [
    {
     "data": {
      "text/plain": [
       "[<matplotlib.lines.Line2D at 0x7f760c3a5910>]"
      ]
     },
     "execution_count": 8,
     "metadata": {},
     "output_type": "execute_result"
    },
    {
     "data": {
      "image/png": "[encoded data removed]",
      "text/plain": [
       "<matplotlib.figure.Figure at 0x7f760c353a10>"
      ]
     },
     "metadata": {},
     "output_type": "display_data"
    }
   ],
   "source": [
    "plt.figure()\n",
    "plt.plot(x,t,'ro')\n",
    "plt.plot(testx,testt,'b')"
   ]
  },
  {
   "cell_type": "markdown",
   "metadata": {},
   "source": [
    "Bendy!"
   ]
  },
  {
   "cell_type": "markdown",
   "metadata": {
    "collapsed": true
   },
   "source": [
    "### Appendix: solving linear systems"
   ]
  },
  {
   "cell_type": "markdown",
   "metadata": {},
   "source": [
    "Our expression for the optimal value of $\\mathbf{w}$ is:\n",
    "\n",
    "$$ \\mathbf{w} = \\left(\\mathbf{X}^T\\mathbf{X}\\right)^{-1}\\mathbf{X}^T\\mathbf{t} $$\n",
    "\n",
    "Above, we have computed this by writing code to compute the right hand side. This involves performing a matrix inversion *which is almost always something to avoid* (as the matrix gets bigger, this becomes time consuming and numerically innacurate).\n",
    "\n",
    "Instead, we can go back a step to this equation:\n",
    "\n",
    "$$ \\mathbf{X}^T\\mathbf{X}\\mathbf{w} = \\mathbf{X}^T \\mathbf{t} $$\n",
    "\n",
    "This is a system of linear equations (in general: $\\mathbf{A}\\mathbf{z} = \\mathbf{B}$) and we can solve this directly for $\\mathbf{w}$ using `numpy.linalg.solve`:"
   ]
  },
  {
   "cell_type": "code",
   "execution_count": 9,
   "metadata": {
    "collapsed": true
   },
   "outputs": [],
   "source": [
    "XX = np.dot(X.T,X)\n",
    "Xt = np.dot(X.T,t)\n",
    "w = np.linalg.solve(XX,Xt)"
   ]
  },
  {
   "cell_type": "code",
   "execution_count": 10,
   "metadata": {},
   "outputs": [
    {
     "name": "stdout",
     "output_type": "stream",
     "text": [
      "[[  4.55597856e+02]\n",
      " [ -4.43160485e-01]\n",
      " [  1.10151552e-04]]\n"
     ]
    }
   ],
   "source": [
    "print w"
   ]
  },
  {
   "cell_type": "markdown",
   "metadata": {},
   "source": [
    "For this system, it doesn't make any difference, but you don't have to get much bigger to see a difference."
   ]
  },
  {
   "cell_type": "markdown",
   "metadata": {
    "collapsed": true
   },
   "source": [
    "Now, how to make the code listen to you can get however order you want?\n",
    "\n",
    "Simply a loop!\n",
    "\n",
    "(but we first need to rescale the x...)"
   ]
  },
  {
   "cell_type": "markdown",
   "metadata": {},
   "source": [
    "<h4>Rescaling $x$</h4>\n",
    "<p>We re-scale the Olympic year value to help with numerical problems when we look at high orders. Satisfy yourself that this doesn't make any difference!</p>"
   ]
  },
  {
   "cell_type": "code",
   "execution_count": 11,
   "metadata": {
    "collapsed": true
   },
   "outputs": [],
   "source": [
    "x = (x-1896)/4"
   ]
  },
  {
   "cell_type": "markdown",
   "metadata": {},
   "source": [
    "<h4>Creating $\\mathbf{X}$</h4>\n",
    "<p>We loop up to the desired order, adding columns to $\\mathbf{X}$ at each stage</p>"
   ]
  },
  {
   "cell_type": "code",
   "execution_count": 18,
   "metadata": {},
   "outputs": [
    {
     "name": "stdout",
     "output_type": "stream",
     "text": [
      "[[  0. ]\n",
      " [  1. ]\n",
      " [  2. ]\n",
      " [  2.5]\n",
      " [  3. ]\n",
      " [  4. ]\n",
      " [  6. ]\n",
      " [  7. ]\n",
      " [  8. ]\n",
      " [  9. ]\n",
      " [ 10. ]\n",
      " [ 13. ]\n",
      " [ 14. ]\n",
      " [ 15. ]\n",
      " [ 16. ]\n",
      " [ 17. ]\n",
      " [ 18. ]\n",
      " [ 19. ]\n",
      " [ 20. ]\n",
      " [ 21. ]\n",
      " [ 22. ]\n",
      " [ 23. ]\n",
      " [ 24. ]\n",
      " [ 25. ]\n",
      " [ 26. ]\n",
      " [ 27. ]\n",
      " [ 28. ]]\n",
      "[[  1.00000000e+00   0.00000000e+00   0.00000000e+00]\n",
      " [  1.00000000e+00   1.00000000e+00   8.41470985e-01]\n",
      " [  1.00000000e+00   2.00000000e+00   9.09297427e-01]\n",
      " [  1.00000000e+00   2.50000000e+00   5.98472144e-01]\n",
      " [  1.00000000e+00   3.00000000e+00   1.41120008e-01]\n",
      " [  1.00000000e+00   4.00000000e+00  -7.56802495e-01]\n",
      " [  1.00000000e+00   6.00000000e+00  -2.79415498e-01]\n",
      " [  1.00000000e+00   7.00000000e+00   6.56986599e-01]\n",
      " [  1.00000000e+00   8.00000000e+00   9.89358247e-01]\n",
      " [  1.00000000e+00   9.00000000e+00   4.12118485e-01]\n",
      " [  1.00000000e+00   1.00000000e+01  -5.44021111e-01]\n",
      " [  1.00000000e+00   1.30000000e+01   4.20167037e-01]\n",
      " [  1.00000000e+00   1.40000000e+01   9.90607356e-01]\n",
      " [  1.00000000e+00   1.50000000e+01   6.50287840e-01]\n",
      " [  1.00000000e+00   1.60000000e+01  -2.87903317e-01]\n",
      " [  1.00000000e+00   1.70000000e+01  -9.61397492e-01]\n",
      " [  1.00000000e+00   1.80000000e+01  -7.50987247e-01]\n",
      " [  1.00000000e+00   1.90000000e+01   1.49877210e-01]\n",
      " [  1.00000000e+00   2.00000000e+01   9.12945251e-01]\n",
      " [  1.00000000e+00   2.10000000e+01   8.36655639e-01]\n",
      " [  1.00000000e+00   2.20000000e+01  -8.85130929e-03]\n",
      " [  1.00000000e+00   2.30000000e+01  -8.46220404e-01]\n",
      " [  1.00000000e+00   2.40000000e+01  -9.05578362e-01]\n",
      " [  1.00000000e+00   2.50000000e+01  -1.32351750e-01]\n",
      " [  1.00000000e+00   2.60000000e+01   7.62558450e-01]\n",
      " [  1.00000000e+00   2.70000000e+01   9.56375928e-01]\n",
      " [  1.00000000e+00   2.80000000e+01   2.70905788e-01]]\n"
     ]
    }
   ],
   "source": [
    "maxorder = 1\n",
    "X = np.ones_like(x)\n",
    "for i in range(1,maxorder+1):\n",
    "    X = np.hstack((X,x**i))\n",
    "\n",
    "X = np.hstack((X,np.sin(x)))\n",
    "print X"
   ]
  },
  {
   "cell_type": "markdown",
   "metadata": {},
   "source": [
    "<p>Solve the system...</p>"
   ]
  },
  {
   "cell_type": "code",
   "execution_count": 13,
   "metadata": {},
   "outputs": [
    {
     "name": "stdout",
     "output_type": "stream",
     "text": [
      "[[ 11.11676486]\n",
      " [ -0.05262998]\n",
      " [  0.07820933]]\n"
     ]
    }
   ],
   "source": [
    "w = np.dot(np.linalg.inv(np.dot(X.T,X)),np.dot(X.T,t))\n",
    "print(w)"
   ]
  },
  {
   "cell_type": "markdown",
   "metadata": {},
   "source": [
    "Create a test set in the same manner as $\\mathbf{X}$..."
   ]
  },
  {
   "cell_type": "code",
   "execution_count": 14,
   "metadata": {
    "collapsed": true
   },
   "outputs": [],
   "source": [
    "x_test = np.linspace(0,30,100)[:,None]\n",
    "X_test = np.ones_like(x_test)\n",
    "for i in range(1,maxorder+1):\n",
    "    X_test = np.hstack((X_test,x_test**i))\n",
    "X_test = np.hstack((X_test,np.sin(x_test)))\n",
    "f_test = np.dot(X_test,w)"
   ]
  },
  {
   "cell_type": "code",
   "execution_count": 15,
   "metadata": {},
   "outputs": [
    {
     "data": {
      "text/plain": [
       "[<matplotlib.lines.Line2D at 0x7f760e7f7dd0>]"
      ]
     },
     "execution_count": 15,
     "metadata": {},
     "output_type": "execute_result"
    },
    {
     "data": {
      "image/png": "[encoded data removed]",
      "text/plain": [
       "<matplotlib.figure.Figure at 0x7f760c2ebe90>"
      ]
     },
     "metadata": {},
     "output_type": "display_data"
    }
   ],
   "source": [
    "import pylab as plt\n",
    "%matplotlib inline\n",
    "plt.plot(x_test,f_test,'b-',linewidth=2)\n",
    "plt.plot(x,t,'ro')clf = clf.fit(X, Y)"
   ]
  },
  {
   "cell_type": "code",
   "execution_count": 1,
   "metadata": {
    "collapsed": true
   },
   "outputs": [],
   "source": [
    "import numpy as np\n",
    "# Load training and testing data\n",
    "X_train = np.loadtxt('X_train.csv', delimiter=',', skiprows=1)\n",
    "X_test = np.loadtxt('X_test.csv', delimiter=',', skiprows=1)\n",
    "y_train = np.loadtxt('y_train.csv', delimiter=',', skiprows=1)[:, 1]\n",
    "from sklearn import tree\n",
    "clf = tree.DecisionTreeClassifier()\n",
    "clf = clf.fit(X_train, y_train)\n",
    "y_pred=clf.predict(X_test)\n",
    "test_header = \"Id,EpiOrStroma\"\n",
    "n_points = X_test.shape[0]\n",
    "y_pred_pp = np.ones((n_points, 2))\n",
    "y_pred_pp[:, 0] = range(n_points)\n",
    "y_pred_pp[:, 1] = y_pred\n",
    "np.savetxt('my_submission.csv', y_pred_pp, fmt='%d', delimiter=\",\",\n",
    "           header=test_header, comments=\"\")"
   ]
  },
  {
   "cell_type": "code",
   "execution_count": null,
   "metadata": {
    "collapsed": true
   },
   "outputs": [],
   "source": []
  },
  {
   "cell_type": "code",
   "execution_count": null,
   "metadata": {},
   "outputs": [],
   "source": [
    "def reduce_array(X):\n",
    "    reduced_array=[]\n",
    "    for i in range(0,len(X)):\n",
    "        to_append=[]\n",
    "        for j in range(0,20):\n",
    "            to_append.append((X[i][j]+X[i][j+1]+X[i][j+2])/3)\n",
    "        for j in range(60,len(X[0])):\n",
    "            to_append.append(X[i][j])\n",
    "        reduced_array.append(to_append)\n",
    "    reduced_array=np.asarray(reduced_array)\n",
    "    return(reduced_array)\n",
    "def average_array(X,power):\n",
    "    average=[]\n",
    "    for i in range(0,len(X[0])):\n",
    "        to_append=0\n",
    "        for j in range(1,len(X)):\n",
    "            to_append=to_append+(X[j][i]**power)\n",
    "        to_append=to_append/(len(X))\n",
    "        to_append=to_append**(1/5)\n",
    "        average.append(to_append)\n",
    "    return average\n",
    "def binary_array(X,average):\n",
    "    X_binary=[]\n",
    "    for i in range(0, len(X)):\n",
    "        to_append=[]\n",
    "        for j in range(0,len(X[0])):\n",
    "            if(X[i][j]<=average[j]):\n",
    "                to_append.append(0)\n",
    "            else:\n",
    "                to_append.append(1)\n",
    "        X_binary.append(to_append)\n",
    "    return X_binary\n",
    "\n",
    "train_reduce=reduce_array(X_train)\n",
    "test_reduce=reduce_array(X_test)\n",
    "X_train_binary=binary_array(X_train,average_array(X_train,5))\n",
    "X_test_binary=binary_array(X_test,average_array(X_test,5))\n",
    "train_reduce_binary=binary_array(train_reduce,average_array(train_reduce,5))\n",
    "test_reduce_binary=binary_array(test_reduce,average_array(test_reduce,5))\n",
    "train_binary_reduce=reduce_array(X_train_binary)\n",
    "test_binary_reduce=reduce_array(X_test_binary)\n",
    "\n",
    "from sklearn.ensemble import GradientBoostingClassifier\n",
    "model= GradientBoostingClassifier(n_estimators=100, learning_rate=0.1, max_depth=1, random_state=0)\n",
    "model.fit(X_train_binary, y_train)\n",
    "y_pred=model.predict(X_test_binary)\n",
    "test_header = \"Id,EpiOrStroma\"\n",
    "n_points = X_test.shape[0]\n",
    "y_pred_pp = np.ones((n_points, 2))\n",
    "y_pred_pp[:, 0] = range(n_points)\n",
    "y_pred_pp[:, 1] = y_pred\n",
    "np.savetxt('GradientBoostingClassifier.csv', y_pred_pp, fmt='%d', delimiter=\",\",\n",
    "           header=test_header, comments=\"\")\n",
    "\n",
    "\n",
    "model.fit(train_reduce_binary, y_train)\n",
    "y_pred=model.predict(test_reduce_binary)\n",
    "test_header = \"Id,EpiOrStroma\"\n",
    "n_points = X_test.shape[0]\n",
    "y_pred_pp = np.ones((n_points, 2))\n",
    "y_pred_pp[:, 0] = range(n_points)\n",
    "y_pred_pp[:, 1] = y_pred\n",
    "np.savetxt('GradientBoostingClassifierReduceBinary.csv', y_pred_pp, fmt='%d', delimiter=\",\",\n",
    "           header=test_header, comments=\"\")\n",
    "\n",
    "model.fit(train_binary_reduce, y_train)\n",
    "y_pred=model.predict(test_binary_reduce)\n",
    "test_header = \"Id,EpiOrStroma\"\n",
    "n_points = X_test.shape[0]\n",
    "y_pred_pp = np.ones((n_points, 2))\n",
    "y_pred_pp[:, 0] = range(n_points)\n",
    "y_pred_pp[:, 1] = y_pred\n",
    "np.savetxt('GradientBoostingClassifierBinaryRedcued.csv', y_pred_pp, fmt='%d', delimiter=\",\",\n",
    "           header=test_header, comments=\"\")\n",
    "\n",
    "\n",
    "from sklearn import datasets\n",
    "from sklearn.naive_bayes import GaussianNB\n",
    "\n",
    "gnb = GaussianNB()\n",
    "y_pred_binary = gnb.fit(X_train_binary, y_train).predict(X_test_binary)\n",
    "y_pred= gnb.fit(X_train, y_train).predict(X_test)\n",
    "to_print=\"Id,EpiOrStroma\\n\"\n",
    "for i in range(0,len(y_pred_binary)):\n",
    "    to_print=to_print+str(i)+\",\"+str(int(y_pred_binary[i]))+\"\\n\"\n",
    "fh=open(\"Naive_Bayes_binary.csv\",\"w\")\n",
    "fh.write(to_print)\n",
    "fh.close()\n",
    "\n",
    "\n"
   ]
  },
  {
   "cell_type": "code",
   "execution_count": 84,
   "metadata": {
    "scrolled": false
   },
   "outputs": [
    {
     "name": "stdout",
     "output_type": "stream",
     "text": [
      "528\n"
     ]
    }
   ],
   "source": [
    "# in 0 based indexing, ratio.layer.3 is 11 and GLCM.Ang..2nd.moment..quick.8.11..Layer.1..all.dir.. is 101.\n",
    "answers=[]\n",
    "correct=0\n",
    "ratio_value=0.42\n",
    "GLCM_value=0.001\n",
    "#current best result\n",
    "for i in range(0,len(X_train)):\n",
    "    if(X_train[i][11]>=ratio_value):\n",
    "        if(X_train[i][101]<GLCM_value):\n",
    "            answers.append(1)\n",
    "        else:\n",
    "            answers.append(2)\n",
    "    else:\n",
    "        answers.append(2)\n",
    "    if(answers[-1]==y_train[i]):\n",
    "        correct=correct+1\n",
    "print(correct)\n",
    "test=[]\n",
    "for i in range(0,len(X_test)):\n",
    "    if(X_test[i][11]>=ratio_value):\n",
    "        if(X_test[i][101]<GLCM_value):\n",
    "            test.append(1)\n",
    "        else:\n",
    "            test.append(2)\n",
    "    else:\n",
    "        test.append(2)\n",
    "\n",
    "        \n",
    "        \n",
    "to_print=\"Id,EpiOrStroma\\n\"\n",
    "for i in range(0,len(test)):\n",
    "    to_print=to_print+str(i)+\",\"+str(test[i])+\"\\n\"\n",
    "fh=open(\"answer.csv\",\"w\")\n",
    "fh.write(to_print)\n",
    "fh.close()"
   ]
  },
  {
   "cell_type": "code",
   "execution_count": 5,
   "metadata": {
    "collapsed": true
   },
   "outputs": [],
   "source": [
    "fh=open(\"train.csv\",\"w\")\n",
    "to_print=\"Ratio 3, GCLM ang,EpiOrStroma\\n\"\n",
    "for i in range(0,len(X_train)):\n",
    "    to_print=to_print+str(X_train[i][11])+\",\"+str(X_train[i][101])+\",\"+str(int(y_train[i]))+\"\\n\"\n",
    "fh.write(to_print)"
   ]
  },
  {
   "cell_type": "code",
   "execution_count": 16,
   "metadata": {},
   "outputs": [
    {
     "name": "stdout",
     "output_type": "stream",
     "text": [
      "(600, 600)\n"
     ]
    }
   ],
   "source": [
    "fh=open(\"training.csv\",\"w\")\n",
    "to_print=[]\n",
    "for i in range(0,len(X_train)):\n",
    "    to_print.append([X_train[i][11],X_train[i][101]])\n",
    "test_print=[]\n",
    "for i in range(0,len(X_test)):\n",
    "    test_print.append([X_test[i][11],X_test[i][101]])\n",
    "\n",
    "\n",
    "average=[]\n",
    "for i in range(0,len(to_print[0])):\n",
    "    to_append=0\n",
    "    for j in range(1,len(to_print)):\n",
    "        to_append=to_append+((to_print[j])[i]**5)\n",
    "    to_append=to_append/(len(to_print)-1)\n",
    "    to_append=to_append**(1/5)\n",
    "    average.append(to_append)\n",
    "    \n",
    "    \n",
    "X_train_binary=[]\n",
    "for i in range(0, len(to_print)):\n",
    "    to_append=[]\n",
    "    for j in range(0,len(to_print[0])):\n",
    "        if(to_print[i][j]<=average[j]):\n",
    "            to_append.append(0)\n",
    "        else:\n",
    "            to_append.append(1)\n",
    "    X_train_binary.append(to_append)\n",
    "    \n",
    "\n",
    "X_test_binary=[]\n",
    "for i in range(0, len(test_print)):\n",
    "    to_append=[]\n",
    "    for j in range(0,len(test_print[0])):\n",
    "        if(test_print[i][j]<=average[j]):\n",
    "            to_append.append(0)\n",
    "        else:\n",
    "            to_append.append(1)\n",
    "    X_test_binary.append(to_append)\n",
    "\n",
    "\n",
    "\n",
    "\n",
    "from sklearn import datasets\n",
    "from sklearn.naive_bayes import GaussianNB\n",
    "print(len(X_train_binary),len(y_train))\n",
    "gnb = GaussianNB()\n",
    "y_pred_binary = gnb.fit(to_print, y_train).predict(test_print)\n",
    "to_print=\"Id,EpiOrStroma\\n\"\n",
    "for i in range(0,len(y_pred_binary)):\n",
    "    to_print=to_print+str(i)+\",\"+str(int(y_pred_binary[i]))+\"\\n\"\n",
    "fh=open(\"Naive_Bayes_binary.csv\",\"w\")\n",
    "fh.write(to_print)\n",
    "fh.close()"
   ]
  },
  {
   "cell_type": "code",
   "execution_count": 33,
   "metadata": {},
   "outputs": [
    {
     "name": "stdout",
     "output_type": "stream",
     "text": [
      "('Mean.Layer.1', 0)\n",
      "('Mean.Layer.2', 1)\n",
      "('Mean.Layer.3', 2)\n",
      "('Standard.deviation.Layer.1', 3)\n",
      "('Standard.deviation.Layer.2', 4)\n",
      "('Standard.deviation.Layer.3', 5)\n",
      "('Skewness.Layer.1', 6)\n",
      "('Skewness.Layer.2', 7)\n",
      "('Skewness.Layer.3', 8)\n",
      "('Ratio.Layer.1', 9)\n",
      "('Ratio.Layer.2', 10)\n",
      "('Ratio.Layer.3', 11)\n",
      "('Min..pixel.value.Layer.1', 12)\n",
      "('Min..pixel.value.Layer.2', 13)\n",
      "('Min..pixel.value.Layer.3', 14)\n",
      "('Max..pixel.value.Layer.1', 15)\n",
      "('Max..pixel.value.Layer.2', 16)\n",
      "('Max..pixel.value.Layer.3', 17)\n",
      "('Mean.of.inner.border.Layer.1', 18)\n",
      "('Mean.of.inner.border.Layer.2', 19)\n",
      "('Mean.of.inner.border.Layer.3', 20)\n",
      "('Mean.of.outer.border.Layer.1', 21)\n",
      "('Mean.of.outer.border.Layer.2', 22)\n",
      "('Mean.of.outer.border.Layer.3', 23)\n",
      "('Border.Contrast.Layer.1', 24)\n",
      "('Border.Contrast.Layer.2', 25)\n",
      "('Border.Contrast.Layer.3', 26)\n",
      "('Contrast.to.neighbor.pixels.Layer.1..3.', 27)\n",
      "('Contrast.to.neighbor.pixels.Layer.2..3.', 28)\n",
      "('Contrast.to.neighbor.pixels.Layer.3..3.', 29)\n",
      "('Edge.Contrast.of.neighbor.pixels..Prototype..Layer.1..3.', 30)\n",
      "('Edge.Contrast.of.neighbor.pixels..Prototype..Layer.2..3.', 31)\n",
      "('Edge.Contrast.of.neighbor.pixels..Prototype..Layer.3..3.', 32)\n",
      "('StdDev..to.neighbor.pixels.Layer.1..3.', 33)\n",
      "('StdDev..to.neighbor.pixels.Layer.2..3.', 34)\n",
      "('StdDev..to.neighbor.pixels.Layer.3..3.', 35)\n",
      "('Circular.Mean.Layer.1..R1..User..3..R2..Same...R1...border.', 36)\n",
      "('Circular.Mean.Layer.2..R1..User..3..R2..Same...R1...border.', 37)\n",
      "('Circular.Mean.Layer.3..R1..User..3..R2..Same...R1...border.', 38)\n",
      "('Circular.StdDev.Layer.1..R1..User..3..R2..Same...R1...border.', 39)\n",
      "('Circular.StdDev.Layer.2..R1..User..3..R2..Same...R1...border.', 40)\n",
      "('Circular.StdDev.Layer.3..R1..User..3..R2..Same...R1...border.', 41)\n",
      "('Circular.StdDev.Mean.Layer.1..R1..User..3..R2..Same...R1...border.', 42)\n",
      "('Circular.StdDev.Mean.Layer.2..R1..User..3..R2..Same...R1...border.', 43)\n",
      "('Circular.StdDev.Mean.Layer.3..R1..User..3..R2..Same...R1...border.', 44)\n",
      "('Mean.Diff..to.neighbors.Layer.1..0.', 45)\n",
      "('Mean.Diff..to.neighbors.Layer.2..0.', 46)\n",
      "('Mean.Diff..to.neighbors.Layer.3..0.', 47)\n",
      "('Mean.Diff..to.neighbors..abs..Layer.1..0.', 48)\n",
      "('Mean.Diff..to.neighbors..abs..Layer.2..0.', 49)\n",
      "('Mean.Diff..to.neighbors..abs..Layer.3..0.', 50)\n",
      "('Rel..border.to.brighter.objects.Layer.1', 51)\n",
      "('Rel..border.to.brighter.objects.Layer.2', 52)\n",
      "('Rel..border.to.brighter.objects.Layer.3', 53)\n",
      "('Mean.diff..to.scene.Layer.1', 54)\n",
      "('Mean.diff..to.scene.Layer.2', 55)\n",
      "('Mean.diff..to.scene.Layer.3', 56)\n",
      "('Ratio.to.scene.Layer.1', 57)\n",
      "('Ratio.to.scene.Layer.2', 58)\n",
      "('Ratio.to.scene.Layer.3', 59)\n",
      "('HSI.Transformation.Hue.R.Layer.1.G.Layer.2.B.Layer.3.', 60)\n",
      "('Area..Pxl.', 61)\n",
      "('Border.length..Pxl.', 62)\n",
      "('Length..mu_m.', 63)\n",
      "('Length.Width', 64)\n",
      "('Number.of.pixels', 65)\n",
      "('Rel..Border.to.Image.Border', 66)\n",
      "('Volume..Pxl.', 67)\n",
      "('Width..mu_m.', 68)\n",
      "('Asymmetry', 69)\n",
      "('Border.index', 70)\n",
      "('Compactness', 71)\n",
      "('Density', 72)\n",
      "('Elliptic.Fit', 73)\n",
      "('Radius.of.largest.enclosed.ellipse', 74)\n",
      "('Radius.of.smallest.enclosing.ellipse', 75)\n",
      "('Rectangular.Fit', 76)\n",
      "('Roundness', 77)\n",
      "('Shape.index', 78)\n",
      "('Area..excluding.inner.polygons...Pxl.', 79)\n",
      "('Area..including.inner.polygons...Pxl.', 80)\n",
      "('Average.length.of.edges..polygon...Pxl.', 81)\n",
      "('Compactness..polygon.', 82)\n",
      "('Length.of.longest.edge..polygon...Pxl.', 83)\n",
      "('Number.of.edges..polygon.', 84)\n",
      "('Number.of.inner.objects..polygon.', 85)\n",
      "('Perimeter..polygon...Pxl.', 86)\n",
      "('Stddev.of.length.of.edges..polygon...Pxl.', 87)\n",
      "('Mean.of.sub.objects..stddev.Layer.1..1.', 88)\n",
      "('Area.of.sub.objects..mean..1...Pxl.', 89)\n",
      "('Area.of.sub.objects..stddev..1...Pxl.', 90)\n",
      "('Density.of.sub.objects..mean..1.', 91)\n",
      "('Density.of.sub.objects..stddev..1.', 92)\n",
      "('Asymmetry.of.sub.objects..mean..1.', 93)\n",
      "('Asymmetry.of.sub.objects..stddev..1.', 94)\n",
      "('Direction.of.sub.objects..mean..1.', 95)\n",
      "('Direction.of.sub.objects..stddev..1.', 96)\n",
      "('GLCM.Homogeneity..quick.8.11..Layer.1..all.dir..', 97)\n",
      "('GLCM.Contrast..quick.8.11..Layer.1..all.dir..', 98)\n",
      "('GLCM.Dissimilarity..quick.8.11..Layer.1..all.dir..', 99)\n",
      "('GLCM.Entropy..quick.8.11..Layer.1..all.dir..', 100)\n",
      "('GLCM.Ang..2nd.moment..quick.8.11..Layer.1..all.dir..', 101)\n",
      "('GLCM.Mean..quick.8.11..Layer.1..all.dir..', 102)\n",
      "('GLCM.StdDev..quick.8.11..Layer.1..all.dir..', 103)\n",
      "('GLCM.Correlation..quick.8.11..Layer.1..all.dir..', 104)\n",
      "('Number.of.sub.objects.Nucleus..1.', 105)\n",
      "('Number.of.sub.objects.Dark..1.', 106)\n",
      "('Area.of.sub.objects.Nucleus..1...Pxl.', 107)\n",
      "('Area.of.sub.objects.Dark..1...Pxl.', 108)\n",
      "('Rel..area.of.sub.objects.Nucleus..1.', 109)\n",
      "('Rel..area.of.sub.objects.Dark..1.', 110)\n",
      "('Rel..area.of.sub.objects.unclassified..1.', 111)\n"
     ]
    }
   ],
   "source": [
    "array='Mean.Layer.1,Mean.Layer.2,Mean.Layer.3,Standard.deviation.Layer.1,Standard.deviation.Layer.2,Standard.deviation.Layer.3,Skewness.Layer.1,Skewness.Layer.2,Skewness.Layer.3,Ratio.Layer.1,Ratio.Layer.2,Ratio.Layer.3,Min..pixel.value.Layer.1,Min..pixel.value.Layer.2,Min..pixel.value.Layer.3,Max..pixel.value.Layer.1,Max..pixel.value.Layer.2,Max..pixel.value.Layer.3,Mean.of.inner.border.Layer.1,Mean.of.inner.border.Layer.2,Mean.of.inner.border.Layer.3,Mean.of.outer.border.Layer.1,Mean.of.outer.border.Layer.2,Mean.of.outer.border.Layer.3,Border.Contrast.Layer.1,Border.Contrast.Layer.2,Border.Contrast.Layer.3,Contrast.to.neighbor.pixels.Layer.1..3.,Contrast.to.neighbor.pixels.Layer.2..3.,Contrast.to.neighbor.pixels.Layer.3..3.,Edge.Contrast.of.neighbor.pixels..Prototype..Layer.1..3.,Edge.Contrast.of.neighbor.pixels..Prototype..Layer.2..3.,Edge.Contrast.of.neighbor.pixels..Prototype..Layer.3..3.,StdDev..to.neighbor.pixels.Layer.1..3.,StdDev..to.neighbor.pixels.Layer.2..3.,StdDev..to.neighbor.pixels.Layer.3..3.,Circular.Mean.Layer.1..R1..User..3..R2..Same...R1...border.,Circular.Mean.Layer.2..R1..User..3..R2..Same...R1...border.,Circular.Mean.Layer.3..R1..User..3..R2..Same...R1...border.,Circular.StdDev.Layer.1..R1..User..3..R2..Same...R1...border.,Circular.StdDev.Layer.2..R1..User..3..R2..Same...R1...border.,Circular.StdDev.Layer.3..R1..User..3..R2..Same...R1...border.,Circular.StdDev.Mean.Layer.1..R1..User..3..R2..Same...R1...border.,Circular.StdDev.Mean.Layer.2..R1..User..3..R2..Same...R1...border.,Circular.StdDev.Mean.Layer.3..R1..User..3..R2..Same...R1...border.,Mean.Diff..to.neighbors.Layer.1..0.,Mean.Diff..to.neighbors.Layer.2..0.,Mean.Diff..to.neighbors.Layer.3..0.,Mean.Diff..to.neighbors..abs..Layer.1..0.,Mean.Diff..to.neighbors..abs..Layer.2..0.,Mean.Diff..to.neighbors..abs..Layer.3..0.,Rel..border.to.brighter.objects.Layer.1,Rel..border.to.brighter.objects.Layer.2,Rel..border.to.brighter.objects.Layer.3,Mean.diff..to.scene.Layer.1,Mean.diff..to.scene.Layer.2,Mean.diff..to.scene.Layer.3,Ratio.to.scene.Layer.1,Ratio.to.scene.Layer.2,Ratio.to.scene.Layer.3,HSI.Transformation.Hue.R.Layer.1.G.Layer.2.B.Layer.3.,Area..Pxl.,Border.length..Pxl.,Length..mu_m.,Length.Width,Number.of.pixels,Rel..Border.to.Image.Border,Volume..Pxl.,Width..mu_m.,Asymmetry,Border.index,Compactness,Density,Elliptic.Fit,Radius.of.largest.enclosed.ellipse,Radius.of.smallest.enclosing.ellipse,Rectangular.Fit,Roundness,Shape.index,Area..excluding.inner.polygons...Pxl.,Area..including.inner.polygons...Pxl.,Average.length.of.edges..polygon...Pxl.,Compactness..polygon.,Length.of.longest.edge..polygon...Pxl.,Number.of.edges..polygon.,Number.of.inner.objects..polygon.,Perimeter..polygon...Pxl.,Stddev.of.length.of.edges..polygon...Pxl.,Mean.of.sub.objects..stddev.Layer.1..1.,Area.of.sub.objects..mean..1...Pxl.,Area.of.sub.objects..stddev..1...Pxl.,Density.of.sub.objects..mean..1.,Density.of.sub.objects..stddev..1.,Asymmetry.of.sub.objects..mean..1.,Asymmetry.of.sub.objects..stddev..1.,Direction.of.sub.objects..mean..1.,Direction.of.sub.objects..stddev..1.,GLCM.Homogeneity..quick.8.11..Layer.1..all.dir..,GLCM.Contrast..quick.8.11..Layer.1..all.dir..,GLCM.Dissimilarity..quick.8.11..Layer.1..all.dir..,GLCM.Entropy..quick.8.11..Layer.1..all.dir..,GLCM.Ang..2nd.moment..quick.8.11..Layer.1..all.dir..,GLCM.Mean..quick.8.11..Layer.1..all.dir..,GLCM.StdDev..quick.8.11..Layer.1..all.dir..,GLCM.Correlation..quick.8.11..Layer.1..all.dir..,Number.of.sub.objects.Nucleus..1.,Number.of.sub.objects.Dark..1.,Area.of.sub.objects.Nucleus..1...Pxl.,Area.of.sub.objects.Dark..1...Pxl.,Rel..area.of.sub.objects.Nucleus..1.,Rel..area.of.sub.objects.Dark..1.,Rel..area.of.sub.objects.unclassified..1.'\n",
    "vari=array.split(\",\")\n",
    "for i in range(0,len(vari)):\n",
    "    #if(vari[i]=='Ratio.to.scene.Layer.3,HSI.Transformation.Hue.R.Layer.1.G.Layer.2.B.Layer.3.'):\n",
    "    \n",
    "    print(vari[i],i)"
   ]
  },
  {
   "cell_type": "code",
   "execution_count": null,
   "metadata": {
    "collapsed": true
   },
   "outputs": [],
   "source": []
  }
 ],
 "metadata": {
  "anaconda-cloud": {},
  "kernelspec": {
   "display_name": "Python 2",
   "language": "python",
   "name": "python2"
  },
  "language_info": {
   "codemirror_mode": {
    "name": "ipython",
    "version": 2
   },
   "file_extension": ".py",
   "mimetype": "text/x-python",
   "name": "python",
   "nbconvert_exporter": "python",
   "pygments_lexer": "ipython2",
   "version": "2.7.14"
  }
 },
 "nbformat": 4,
 "nbformat_minor": 2
}
